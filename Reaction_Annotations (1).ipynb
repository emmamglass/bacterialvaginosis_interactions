{
 "cells": [
  {
   "cell_type": "code",
   "execution_count": 1,
   "metadata": {},
   "outputs": [],
   "source": [
    "import re\n",
    "import requests\n",
    "import pandas as pd\n",
    "from Bio import SeqIO\n",
    "from Bio.KEGG import REST\n",
    "from Bio.KEGG.KGML import KGML_parser"
   ]
  },
  {
   "cell_type": "code",
   "execution_count": 2,
   "metadata": {},
   "outputs": [],
   "source": [
    "all_reactions = pd.read_csv(\"reactionpresence.csv\", nrows=1).columns.tolist()\n",
    "all_reactions_strip = [x[:-2] for x in all_reactions]\n",
    "all_reaction_dict = dict.fromkeys(all_reactions_strip)"
   ]
  },
  {
   "cell_type": "code",
   "execution_count": 3,
   "metadata": {},
   "outputs": [],
   "source": [
    "r = requests.get(\"https://raw.githubusercontent.com/ModelSEED/ModelSEEDDatabase/master/Biochemistry/reactions.tsv\")\n",
    "r = r.content.decode(\"utf-8\")"
   ]
  },
  {
   "cell_type": "code",
   "execution_count": 4,
   "metadata": {},
   "outputs": [],
   "source": [
    "for key in all_reaction_dict:\n",
    "    annotations = r\n",
    "    present = annotations.find(key)\n",
    "    if present != -1:\n",
    "        right = annotations[present:]\n",
    "        position = right.find(\"KEGG: \")\n",
    "        if position != -1:\n",
    "            all_reaction_dict[key] = right[position+6:position+13]\n",
    "        elif position == -1:\n",
    "            all_reaction_dict[key] = \"NA\"\n",
    "    elif present == -1:\n",
    "        all_reaction_dict[key] = \"NA\"\n",
    "clean_dict = {key.strip(\"|\"): item.strip(\"|\") for key, item in all_reaction_dict.items()}"
   ]
  },
  {
   "cell_type": "code",
   "execution_count": 5,
   "metadata": {},
   "outputs": [],
   "source": [
    "for key, value in clean_dict.items():\n",
    "    try:\n",
    "        kegg = REST.kegg_get(value).read()\n",
    "        position = kegg.find(\"Metabolism; \")\n",
    "        if position != -1:\n",
    "            clean_dict[key] = re.search('Metabolism;(.*)\\n', kegg)\n",
    "        elif position == -1:\n",
    "            clean_dict[key] = \"NA\"\n",
    "    except:\n",
    "        pass"
   ]
  },
  {
   "cell_type": "code",
   "execution_count": 6,
   "metadata": {},
   "outputs": [],
   "source": [
    "with open('reaction_annotations.csv', 'w') as f:\n",
    "    for key in clean_dict.keys():\n",
    "        f.write(\"%s,%s\\n\"%(key,clean_dict[key]))"
   ]
  }
 ],
 "metadata": {
  "kernelspec": {
   "display_name": "Python 3",
   "language": "python",
   "name": "python3"
  },
  "language_info": {
   "codemirror_mode": {
    "name": "ipython",
    "version": 3
   },
   "file_extension": ".py",
   "mimetype": "text/x-python",
   "name": "python",
   "nbconvert_exporter": "python",
   "pygments_lexer": "ipython3",
   "version": "3.7.6"
  }
 },
 "nbformat": 4,
 "nbformat_minor": 4
}
