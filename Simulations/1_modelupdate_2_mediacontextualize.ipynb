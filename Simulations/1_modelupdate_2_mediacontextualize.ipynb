{
 "cells": [
  {
   "cell_type": "markdown",
   "metadata": {},
   "source": []
  },
  {
   "cell_type": "code",
   "execution_count": null,
   "metadata": {},
   "outputs": [],
   "source": [
    "from cobra import Model, Reaction, Metabolite\n",
    "from cobra.io.sbml import read_sbml_model, write_sbml_model\n",
    "from riptide import *\n",
    "import pandas as pd\n",
    "from copy import *\n",
    "from difflib import *\n",
    "import numpy as np \n",
    "from pathlib import Path\n",
    "import glob"
   ]
  },
  {
   "cell_type": "code",
   "execution_count": null,
   "metadata": {},
   "outputs": [],
   "source": [
    "from Bio import SeqIO\n",
    "from Bio.KEGG import REST\n",
    "from Bio.KEGG.KGML import KGML_parser\n",
    "import pandas as pd\n",
    "from cobra import Model, Reaction, Metabolite\n",
    "from riptide import *\n",
    "import pandas as pd\n",
    "from copy import *\n",
    "from cobra.medium import minimal_medium\n",
    "from difflib import *"
   ]
  },
  {
   "cell_type": "markdown",
   "metadata": {},
   "source": [
    "## BV+ Cervicovaginal Fluid\n",
    "\n",
    "Cervicovaginal fluid [metabolomics](https://journals.asm.org/doi/10.1128/mBio.00204-15) comparing BV positive patients to BV negative patients metabolome\n",
    "\n",
    "Specifically metabolites that are >1 ratio (negative vs. positive) & signficant based on Welch's two sample t-test\n",
    "\n",
    "#### Accounted for:\n",
    "myristoleate, kynurenate, pentadecanoate, 2-O-methylguanosine, 3-dephosphocoenzyme A, N2,N2-dimethylguanine, flavin adenine dinucleotide (FAD), Alanine, Valine, N-acetylalanine, 3-methyl-2-oxovalerate, 3-methyl-2-oxobutyrate, tricarballylate, 4-methyl-2-oxopentanoate, N-acetylneuraminate, citrulline, 2-aminobutyrate, phenylacetate, sarcosine (N-Methylglycine), nicotinate, palmitoyl ethanolamide, threitol, galactose, N6-acetyllysine, 1-phenylethanamine, alpha-hydroxyisocaproate, 2-Hydroxybutyrate, succinate, 2-hydroxyglutarate, 3-phenylpropionate (hydrocinnamate), thymine, agmatine, N-acetylputrescine, 4-hydroxybutyrate, tyramine, putrescine, deoxycarnitine, tryptamine, cadaverine, 5-aminovalerate, 4-Hydroxyphenylacetate, pipecolate\n",
    "\n",
    "#### Not accounted for:\n",
    "pelargonate, indolepropionate, myristate, 13-methylmyristic acid, N-acetylvaline, N-acetylphenylalanine, N-acetylleucine, N-acetylglutamate, 13-HODE, oleic ethanolamide, N-acetylaspartate (NAA), 12-HETE, alpha-hydroxyisovalerate, 2-hydroxy-3-methylvalerate, 3-(4-hydroxyphenyl)propionate"
   ]
  },
  {
   "cell_type": "code",
   "execution_count": null,
   "metadata": {},
   "outputs": [],
   "source": [
    "cervicovaginal_cmpds = [\"cpd05237\",\n",
    "                        \"cpd01182\",\n",
    "                        \"cpd15622\",\n",
    "                        \"cpd34555\",\n",
    "                        \"cpd00655\",\n",
    "                        \"cpd28562\",\n",
    "                        \"cpd00015\",\n",
    "                        \"cpd00035\",\n",
    "                        \"cpd00156\",\n",
    "                        \"cpd33748\",\n",
    "                        \"cpd00508\",\n",
    "                        \"cpd00123\",\n",
    "                        \"cpd16654\",\n",
    "                        \"cpd00200\",\n",
    "                        \"cpd00232\",\n",
    "                        \"cpd00274\",\n",
    "                        \"cpd01573\",\n",
    "                        \"cpd00430\",\n",
    "                        \"cpd00183\",\n",
    "                        \"cpd00218\",\n",
    "                        \"cpd16300\",\n",
    "                        \"cpd17172\",\n",
    "                        \"cpd00108\",\n",
    "                        \"cpd01770\",\n",
    "                        \"cpd34388\",\n",
    "                        \"cpd33351\",\n",
    "                        \"cpd03561\",\n",
    "                        \"cpd00036\",\n",
    "                        \"cpd02041\",\n",
    "                        \"cpd03343\",\n",
    "                        \"cpd00151\",\n",
    "                        \"cpd00152\",\n",
    "                        \"cpd01758\",\n",
    "                        \"cpd00728\",\n",
    "                        \"cpd00374\",\n",
    "                        \"cpd00118\",\n",
    "                        \"cpd00870\",\n",
    "                        \"cpd00318\",\n",
    "                        \"cpd01155\",\n",
    "                        \"cpd00339\",\n",
    "                        \"cpd00489\",\n",
    "                        \"cpd00323\"]"
   ]
  },
  {
   "cell_type": "markdown",
   "metadata": {},
   "source": [
    "## Identifying existing exchange reactions & adding missing exchange reactions\n",
    "\n",
    "Create list of metabolite ids"
   ]
  },
  {
   "cell_type": "code",
   "execution_count": null,
   "metadata": {},
   "outputs": [],
   "source": [
    "media_exchange_ids = [\"EX_\"+ x + \"_e\" for x in cervicovaginal_cmpds]"
   ]
  },
  {
   "cell_type": "code",
   "execution_count": null,
   "metadata": {},
   "outputs": [],
   "source": [
    "def minMedia(model):\n",
    "    modelOutput = deepcopy(model)\n",
    "    \n",
    "    # create a list of existing exchange reactions\n",
    "    model_exchange_ids = []\n",
    "    for exchange in modelOutput.exchanges:\n",
    "        model_exchange_ids.append(exchange.id)\n",
    "            \n",
    "    # Identify missing metabolites\n",
    "    exchange_difference = [x for x in media_exchange_ids if x not in model_exchange_ids]\n",
    "    missing_metabolites = [x[3:-2] for x in exchange_difference]\n",
    "    \n",
    "    # Add missing extracellular metabolites\n",
    "    for cpd in missing_metabolites:\n",
    "        cytosol = (cpd + \"_c\")\n",
    "        for metabo in modelOutput.metabolites:\n",
    "            if cytosol in metabo.id:\n",
    "                metabolite = Metabolite(cpd + \"_e\")\n",
    "                metabolite.name = modelOutput.metabolites.get_by_id(cytosol).name\n",
    "                metabolite.formula = modelOutput.metabolites.get_by_id(cytosol).formula\n",
    "                metabolite.compartment = \"extracellular\"\n",
    "                modelOutput.add_metabolites([metabolite])\n",
    "                \n",
    "    # Add missing exchange reactions\n",
    "    for metabolite in missing_metabolites:\n",
    "        cytosol = (metabolite + \"_c\")\n",
    "        for metabo in modelOutput.metabolites:\n",
    "            if cytosol in metabo.id:\n",
    "                reaction = Reaction('EX_' + metabolite + \"_e\")\n",
    "                reaction.name = modelOutput.metabolites.get_by_id(metabolite+\"_e\").name + 'exchange'\n",
    "                reaction.subsystem = 'exchange'\n",
    "                reaction.lower_bound = 0 \n",
    "                reaction.upper_bound = 1000\n",
    "                reaction.add_metabolites({modelOutput.metabolites.get_by_id(metabolite+\"_e\"):-1.0})\n",
    "                modelOutput.add_reactions([reaction])\n",
    "                \n",
    "    #Create list of minimal media reactions \n",
    "    min_media = minimal_medium(modelOutput, 0.2, open_exchanges=True)\n",
    "    minmedia_open_exchanges = list(min_media.index)\n",
    "    \n",
    "    return minmedia_open_exchanges"
   ]
  },
  {
   "cell_type": "code",
   "execution_count": null,
   "metadata": {},
   "outputs": [],
   "source": [
    "minmedia = []\n",
    "file_list = glob.glob(\"reconstructions/*.sbml\")\n",
    "for old in file_list:\n",
    "    model=read_sbml_model(old, low_memory = False)\n",
    "    model_update = minMedia(model)\n",
    "    min_exchanges = model_update\n",
    "    minmedia.append(min_exchanges)\n",
    "\n",
    "minmedia = set([item for sublist in minmedia for item in sublist])"
   ]
  },
  {
   "cell_type": "code",
   "execution_count": null,
   "metadata": {},
   "outputs": [],
   "source": [
    "media_exchange_ids_update = list(set(media_exchange_ids + list(minmedia)))"
   ]
  },
  {
   "cell_type": "code",
   "execution_count": null,
   "metadata": {},
   "outputs": [],
   "source": [
    "def updateModel(model):\n",
    "    modelOutput = deepcopy(model)\n",
    "    \n",
    "    # create a list of existing exchange reactions\n",
    "    model_exchange_ids = []\n",
    "    for exchange in modelOutput.exchanges:\n",
    "        media_exchange_ids_update.append(exchange.id)\n",
    "            \n",
    "    # Identify missing metabolites\n",
    "    exchange_difference = [x for x in media_exchange_ids_update if x not in model_exchange_ids]\n",
    "    missing_metabolites = [x[3:-2] for x in exchange_difference]\n",
    "    \n",
    "    # Add missing extracellular metabolites\n",
    "    for cpd in missing_metabolites:\n",
    "        cytosol = (cpd + \"_c\")\n",
    "        for metabo in modelOutput.metabolites:\n",
    "            if cytosol in metabo.id:\n",
    "                metabolite = Metabolite(cpd + \"_e\")\n",
    "                metabolite.name = modelOutput.metabolites.get_by_id(cytosol).name\n",
    "                metabolite.formula = modelOutput.metabolites.get_by_id(cytosol).formula\n",
    "                metabolite.compartment = \"extracellular\"\n",
    "                modelOutput.add_metabolites([metabolite])\n",
    "                \n",
    "    # Add missing exchange reactions\n",
    "    for metabolite in missing_metabolites:\n",
    "        cytosol = (metabolite + \"_c\")\n",
    "        for metabo in modelOutput.metabolites:\n",
    "            if cytosol in metabo.id:\n",
    "                reaction = Reaction('EX_' + metabolite + \"_e\")\n",
    "                reaction.name = modelOutput.metabolites.get_by_id(metabolite+\"_e\").name + 'exchange'\n",
    "                reaction.subsystem = 'exchange'\n",
    "                reaction.lower_bound = 0 \n",
    "                reaction.upper_bound = 1000\n",
    "                reaction.add_metabolites({modelOutput.metabolites.get_by_id(metabolite+\"_e\"):-1.0})\n",
    "                modelOutput.add_reactions([reaction])\n",
    "  \n",
    "    return modelOutput"
   ]
  },
  {
   "cell_type": "code",
   "execution_count": null,
   "metadata": {},
   "outputs": [],
   "source": [
    "file_list = glob.glob(\"reconstructions/*sbml\")\n",
    "for old in file_list:\n",
    "    model=read_sbml_model(old, low_memory=False)\n",
    "    model_update = updateModel(model)\n",
    "    name = old.lstrip('reconstructions/')\n",
    "    name2 = name.rstrip(\".sbml\")\n",
    "    write_sbml_model(model_update, \"update_reconstructions/\" + name2 + \".sbml\")"
   ]
  },
  {
   "cell_type": "code",
   "execution_count": null,
   "metadata": {},
   "outputs": [],
   "source": [
    "def changeMedia(model, media, limEX=[]):\n",
    "    modelOutput = deepcopy(model)\n",
    "\n",
    "    # Set the new media conditions\n",
    "    for ex in modelOutput.exchanges:\n",
    "        ex.upper_bound = 1000\n",
    "        ex.lower_bound = 0\n",
    "                               \n",
    "    # BV+ Media + Minimal Media\n",
    "    if media == 1:\n",
    "        for exchange in modelOutput.reactions:\n",
    "            if exchange.id in media_exchange_ids_update:\n",
    "                exchange.lower_bound = -1000\n",
    "   \n",
    "    elif media == 0:\n",
    "        print('all exchange bounds set to [0,1000]')\n",
    "            \n",
    "    else:\n",
    "        print('unrecognized media condition. Please enter 1 for BV + media')\n",
    "   \n",
    "    return(modelOutput) "
   ]
  },
  {
   "cell_type": "markdown",
   "metadata": {},
   "source": [
    "# Output models with media constraints"
   ]
  },
  {
   "cell_type": "code",
   "execution_count": null,
   "metadata": {},
   "outputs": [],
   "source": [
    "file_list = glob.glob(\"reconstructions/*.sbml\")\n",
    "for seq in file_list:\n",
    "    model = cobra.io.read_sbml_model(seq)\n",
    "    model_output = changeMedia(model, 1)\n",
    "    print(model_output.optimize())\n",
    "    name = seq.lstrip('reconstructions/')\n",
    "    name2 = name.rstrip(\".sbml\")\n",
    "    cobra.io.write_sbml_model(model_output, \"BV+_context/\" + name2 + \".sbml\")"
   ]
  },
  {
   "cell_type": "code",
   "execution_count": null,
   "metadata": {},
   "outputs": [],
   "source": []
  }
 ],
 "metadata": {
  "kernelspec": {
   "display_name": "Python 3",
   "language": "python",
   "name": "python3"
  },
  "language_info": {
   "codemirror_mode": {
    "name": "ipython",
    "version": 3
   },
   "file_extension": ".py",
   "mimetype": "text/x-python",
   "name": "python",
   "nbconvert_exporter": "python",
   "pygments_lexer": "ipython3",
   "version": "3.7.6"
  }
 },
 "nbformat": 4,
 "nbformat_minor": 4
}
